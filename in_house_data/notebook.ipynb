{
 "cells": [
  {
   "cell_type": "code",
   "execution_count": 1,
   "id": "ad5fa506",
   "metadata": {},
   "outputs": [],
   "source": [
    "import os\n",
    "import matplotlib.pyplot as plt\n",
    "import matplotlib.patches as patches\n",
    "import numpy as np\n",
    "import pandas as pd\n",
    "import torch"
   ]
  },
  {
   "cell_type": "code",
   "execution_count": 2,
   "id": "9894e2d7",
   "metadata": {},
   "outputs": [],
   "source": [
    "df = pd.read_csv(os.path.join(\"datasets\", \"A0152_1.csv\"))"
   ]
  },
  {
   "cell_type": "code",
   "execution_count": 3,
   "id": "663646a6",
   "metadata": {},
   "outputs": [],
   "source": [
    "X = df.to_numpy()[:, 1:-1]\n",
    "# Normalize data\n",
    "width_original = 1920\n",
    "height_original = 1080\n",
    "X[:, ::2] = X[:, ::2] / width_original\n",
    "X[:, 1::2] = X[:, 1::2] / height_original"
   ]
  },
  {
   "cell_type": "code",
   "execution_count": 4,
   "id": "984106a8",
   "metadata": {},
   "outputs": [],
   "source": [
    "n = 100\n",
    "frame = X[n, :]"
   ]
  },
  {
   "cell_type": "code",
   "execution_count": 5,
   "id": "a0d004fd",
   "metadata": {
    "scrolled": true
   },
   "outputs": [
    {
     "data": {
      "image/png": "[encoded data removed]",
      "text/plain": [
       "<Figure size 432x288 with 1 Axes>"
      ]
     },
     "metadata": {
      "needs_background": "light"
     },
     "output_type": "display_data"
    }
   ],
   "source": [
    "fig, ax = plt.subplots()\n",
    "for i in range(len(frame)//4):\n",
    "    if i < 4:\n",
    "        edgecolor = 'r'\n",
    "    else:\n",
    "        edgecolor = 'b'\n",
    "    x = frame[i*4]\n",
    "    y = frame[i*4+1]\n",
    "    w = frame[i*4+2]\n",
    "    h = frame[i*4+3]\n",
    "    rect = patches.Rectangle((x, y), w, h, linewidth=1, edgecolor=edgecolor, facecolor='none')\n",
    "    ax.add_patch(rect)\n",
    "plt.axis('square')\n",
    "plt.xlim(0, 1)\n",
    "plt.ylim(0, 1)\n",
    "plt.gca().invert_yaxis()\n",
    "plt.show()"
   ]
  },
  {
   "cell_type": "code",
   "execution_count": 6,
   "id": "bc570c8a",
   "metadata": {},
   "outputs": [],
   "source": [
    "def box_to_points(box):\n",
    "    # type np array, shape of input: (n, 4), columns: top left x, top left y, width, height\n",
    "    pts = np.zeros((box.shape[0], box.shape[1]*2))\n",
    "    pts[:, :2] = box[:, :2]\n",
    "    pts[:, 2] = box[:, 0] + box[:, 2]\n",
    "    pts[:, 3] = box[:, 1]\n",
    "    pts[:, 4] = box[:, 0]\n",
    "    pts[:, 5] = box[:, 1] + box[:, 3]\n",
    "    pts[:, 6:] = box[:, :2] + box[:, 2:]\n",
    "    return pts"
   ]
  },
  {
   "cell_type": "code",
   "execution_count": 63,
   "id": "7732b7ec",
   "metadata": {},
   "outputs": [],
   "source": [
    "def get_centerpoint(corners):\n",
    "    # type np array, shape of input: n(n, t, 8), columns: x, y positions of points in clockwise direction\n",
    "    min_x = np.min(corners[:, :, ::2], axis=2)\n",
    "    max_x = np.max(corners[:, :, ::2], axis=2)\n",
    "    min_y = np.min(corners[:, :, 1::2], axis=2)\n",
    "    max_y = np.max(corners[:, :, 1::2], axis=2)\n",
    "    return np.vstack(((min_x+max_x)/2, (min_y+max_y)/2)).T"
   ]
  },
  {
   "cell_type": "code",
   "execution_count": 64,
   "id": "564024ee",
   "metadata": {},
   "outputs": [],
   "source": [
    "'''\n",
    "def redraw(center_point, old_width, old_height):\n",
    "    sqrtA = np.sqrt(old_width*old_height)\n",
    "    new_width = np.where(old_width < old_height, np.sqrt(2)*sqrtA, np.sqrt(2)/2*sqrtA)\n",
    "    new_height = np.where(old_width < old_height, np.sqrt(2)/2*sqrtA, np.sqrt(2)*sqrtA)\n",
    "    return np.vstack(((center_point[:,0] - new_width/2),\n",
    "                      (center_point[:,1] - new_height/2),\n",
    "                      (center_point[:,0] + new_width/2),\n",
    "                      (center_point[:,1] - new_height/2),\n",
    "                      (center_point[:,0] - new_width/2),\n",
    "                      (center_point[:,1] + new_height/2),\n",
    "                      (center_point[:,0] + new_width/2),\n",
    "                      (center_point[:,1] + new_height/2))).T\n",
    "\n",
    "def redraw(corners, center_point, old_width, old_height):\n",
    "    min_x = np.min(corners[:, ::2], axis=1)\n",
    "    max_x = np.max(corners[:, ::2], axis=1)\n",
    "    min_y = np.min(corners[:, 1::2], axis=1)\n",
    "    max_y = np.max(corners[:, 1::2], axis=1)\n",
    "    sqrtA = np.sqrt(old_width*old_height)\n",
    "    #ub = 2*(center_point[:,0]-min_x)\n",
    "    lb = old_width*old_height/(2*(max_y-center_point[:,1]))\n",
    "    #print(lb < ub)\n",
    "    sqrtA = np.where(sqrtA < lb, lb, sqrtA)\n",
    "    #sqrtA = np.where(sqrtA > ub, ub, sqrtA)\n",
    "    sqrtAp = old_width*old_height/sqrtA\n",
    "   \n",
    "    new_width = np.where(max_x-min_x > max_y-min_y, np.maximum(sqrtA, sqrtAp), np.minimum(sqrtA, sqrtAp))\n",
    "    new_height = np.where(max_x-min_x > max_y-min_y, np.minimum(sqrtA, sqrtAp), np.maximum(sqrtA, sqrtAp))\n",
    "    return np.vstack(((center_point[:,0] - new_width/2),\n",
    "                      (center_point[:,1] - new_height/2),\n",
    "                      (center_point[:,0] + new_width/2),\n",
    "                      (center_point[:,1] - new_height/2),\n",
    "                      (center_point[:,0] - new_width/2),\n",
    "                      (center_point[:,1] + new_height/2),\n",
    "                      (center_point[:,0] + new_width/2),\n",
    "                      (center_point[:,1] + new_height/2))).T\n",
    "'''\n",
    "def redraw(corners, center_point, old_width, old_height):\n",
    "    min_x = np.min(corners[:, :, ::2], axis=2)\n",
    "    max_x = np.max(corners[:, :, ::2], axis=2)\n",
    "    min_y = np.min(corners[:, :, 1::2], axis=2)\n",
    "    max_y = np.max(corners[:, :, 1::2], axis=2)\n",
    "    height2width = (max_y-min_y)/(max_x-min_x)\n",
    "    area = old_width * old_height\n",
    "    new_width = np.sqrt(area/height2width)\n",
    "    new_height = area/new_width\n",
    "    return np.vstack(((center_point[:,:,0] - new_width/2),\n",
    "                      (center_point[:,:,1] - new_height/2),\n",
    "                      (center_point[:,:,0] + new_width/2),\n",
    "                      (center_point[:,:,1] - new_height/2),\n",
    "                      (center_point[:,:,0] - new_width/2),\n",
    "                      (center_point[:,:,1] + new_height/2),\n",
    "                      (center_point[:,:,0] + new_width/2),\n",
    "                      (center_point[:,:,1] + new_height/2))).T"
   ]
  },
  {
   "cell_type": "code",
   "execution_count": 9,
   "id": "2ea094a4",
   "metadata": {},
   "outputs": [],
   "source": [
    "# Transform from bounding box to corner points\n",
    "X_pts = np.zeros((X.shape[0], X.shape[1]*2))\n",
    "for i in range(X.shape[1]//4):\n",
    "    X_pts[:, i*8:(i+1)*8] = box_to_points(X[:, i*4:(i+1)*4])"
   ]
  },
  {
   "cell_type": "code",
   "execution_count": 56,
   "id": "01d52941",
   "metadata": {},
   "outputs": [],
   "source": [
    "n = 47\n",
    "frame = X_pts[n, :]"
   ]
  },
  {
   "cell_type": "code",
   "execution_count": 57,
   "id": "71ce36f4",
   "metadata": {
    "scrolled": true
   },
   "outputs": [
    {
     "data": {
      "image/png": "[encoded data removed]",
      "text/plain": [
       "<Figure size 432x288 with 1 Axes>"
      ]
     },
     "metadata": {
      "needs_background": "light"
     },
     "output_type": "display_data"
    }
   ],
   "source": [
    "fig, ax = plt.subplots()\n",
    "for i in range(len(frame)//2):\n",
    "    if i < 16:\n",
    "        c = 'r'\n",
    "    else:\n",
    "        c = 'b'\n",
    "    plt.scatter(frame[i*2], frame[i*2+1], c=c)\n",
    "plt.gca().invert_yaxis()\n",
    "plt.axis('square')\n",
    "plt.xlim(0, 1)\n",
    "plt.ylim(0, 1)\n",
    "plt.show()"
   ]
  },
  {
   "cell_type": "code",
   "execution_count": 58,
   "id": "4c4416b0",
   "metadata": {
    "scrolled": false
   },
   "outputs": [
    {
     "data": {
      "image/png": "[encoded data removed]",
      "text/plain": [
       "<Figure size 432x288 with 1 Axes>"
      ]
     },
     "metadata": {
      "needs_background": "light"
     },
     "output_type": "display_data"
    }
   ],
   "source": [
    "frame_aug = augment_data(X_pts.reshape(len(X_pts),1,-1), velocity=False)\n",
    "frame = frame_aug[n, 0]\n",
    "fig, ax = plt.subplots()\n",
    "for i in range(len(frame)//2):\n",
    "    if i < 16:\n",
    "        c = 'r'\n",
    "    else:\n",
    "        c = 'b'\n",
    "    plt.scatter(frame[i*2], frame[i*2+1], c=c)\n",
    "\n",
    "for i in range(len(frame)//8):\n",
    "    if i < 4:\n",
    "        c = 'orange'\n",
    "    else:\n",
    "        c = 'black'\n",
    "    cxy = get_centerpoint(frame[i*8: (i+1)*8].reshape(1,-1))\n",
    "    plt.scatter(cxy[:,0], cxy[:,1], c=c, marker='x')\n",
    "plt.gca().invert_yaxis()\n",
    "plt.axis('square')\n",
    "plt.xlim(0, 1)\n",
    "plt.ylim(0, 1)\n",
    "plt.show()"
   ]
  },
  {
   "cell_type": "code",
   "execution_count": 59,
   "id": "fd8076e1",
   "metadata": {},
   "outputs": [],
   "source": [
    "center_pts = np.zeros((len(frame_aug), 16))\n",
    "for i in range(frame_aug.shape[-1]//8):\n",
    "    center_pts[:, i*2:(i+1)*2] = get_centerpoint(frame_aug[:, 0, i*8: (i+1)*8])"
   ]
  },
  {
   "cell_type": "code",
   "execution_count": 60,
   "id": "e4a7e45b",
   "metadata": {
    "scrolled": false
   },
   "outputs": [
    {
     "data": {
      "image/png": "[encoded data removed]",
      "text/plain": [
       "<Figure size 432x288 with 1 Axes>"
      ]
     },
     "metadata": {
      "needs_background": "light"
     },
     "output_type": "display_data"
    }
   ],
   "source": [
    "frame_cpt = center_pts[n, :]\n",
    "fig, ax = plt.subplots()\n",
    "for i in range(len(frame_cpt)//2):\n",
    "    if i < 4:\n",
    "        c = 'orange'\n",
    "    else:\n",
    "        c = 'black'\n",
    "    cx, cy = (frame_cpt[i*2], frame_cpt[i*2+1])\n",
    "    plt.scatter(cx, cy, c=c, marker='x')\n",
    "plt.gca().invert_yaxis()\n",
    "plt.axis('square')\n",
    "plt.xlim(0, 1)\n",
    "plt.ylim(0, 1)\n",
    "plt.show()"
   ]
  },
  {
   "cell_type": "code",
   "execution_count": 61,
   "id": "ecd11124",
   "metadata": {},
   "outputs": [],
   "source": [
    "redrawn_pts = np.zeros_like(X_pts)\n",
    "for i in range(center_pts.shape[1]//2):\n",
    "    old_width = X[:, i*4+2]\n",
    "    old_height = X[:, i*4+3]\n",
    "    center_point = center_pts[:, i*2: (i+1)*2]\n",
    "    points = frame_aug[:, 0, i*8: (i+1)*8]\n",
    "    redrawn_pts[:, i*8: (i+1)*8] = redraw(points, center_point, old_width, old_height)"
   ]
  },
  {
   "cell_type": "code",
   "execution_count": 62,
   "id": "90c239a9",
   "metadata": {
    "scrolled": true
   },
   "outputs": [
    {
     "data": {
      "image/png": "[encoded data removed]",
      "text/plain": [
       "<Figure size 432x288 with 1 Axes>"
      ]
     },
     "metadata": {
      "needs_background": "light"
     },
     "output_type": "display_data"
    }
   ],
   "source": [
    "from matplotlib.pyplot import cm\n",
    "n= 10\n",
    "frame = redrawn_pts[n]\n",
    "fig, ax = plt.subplots()\n",
    "for i in range(len(frame)//8):\n",
    "    if i < 4:\n",
    "        c = 'r'\n",
    "    else:\n",
    "        c = 'b'\n",
    "    #plt.scatter(frame[i*2], frame[i*2+1], c=c)\n",
    "    x = frame[i*8]\n",
    "    y = frame[i*8+1]\n",
    "    w = frame[i*8+2] - x\n",
    "    h = frame[i*8+5] - y\n",
    "    rect = patches.Rectangle((x, y), w, h, linewidth=1, edgecolor=c, facecolor='none')\n",
    "    ax.add_patch(rect)\n",
    "\n",
    "aug = frame_aug[n, 0] \n",
    "for i in range(len(aug)//2):\n",
    "    if i < 16:\n",
    "        c = 'r'\n",
    "    else:\n",
    "        c = 'b'\n",
    "    plt.scatter(aug[i*2], aug[i*2+1], c=c)\n",
    "    \n",
    "for i in range(len(frame)//8):\n",
    "    if i < 4:\n",
    "        c = 'orange'\n",
    "    else:\n",
    "        c = 'black'\n",
    "    cxy = get_centerpoint(frame[i*8: (i+1)*8].reshape(1,-1))\n",
    "    plt.scatter(cxy[:,0], cxy[:,1], c=c, marker='x')\n",
    "plt.gca().invert_yaxis()\n",
    "plt.axis('square')\n",
    "plt.xlim(0, 1)\n",
    "plt.ylim(0, 1)\n",
    "plt.show()"
   ]
  },
  {
   "cell_type": "code",
   "execution_count": 13,
   "id": "16395a61",
   "metadata": {},
   "outputs": [],
   "source": [
    "def augment_data(x_in, mirror=True, shift=True, rotate=True):\n",
    "    # hardcoded order of x_in, corner points: 0-63, velocity of center points: 64-79, overlap between boxes: 80-95\n",
    "    point_features = 64\n",
    "    velocity_features = 80\n",
    "\n",
    "    if type(x_in) == torch.Tensor:\n",
    "        x = x_in.cpu().numpy().copy()\n",
    "        x = np.squeeze(x, 1)\n",
    "    else:\n",
    "        x = x_in.copy()\n",
    "\n",
    "    if mirror:\n",
    "        # flip x\n",
    "        chosen = np.random.choice(len(x), len(x) // 2, replace=False)\n",
    "        x[chosen, :, 0:point_features:2] = 1 - x[chosen, :, 0:point_features:2]\n",
    "        x[chosen, :, point_features:velocity_features:2] = -x[chosen, :, point_features:velocity_features:2]\n",
    "\n",
    "        # flip y\n",
    "        chosen = np.random.choice(len(x), len(x) // 2, replace=False)\n",
    "        x[chosen, :, 1:point_features:2] = 1 - x[chosen, :, 1:point_features:2]\n",
    "        x[chosen, :, point_features + 1:velocity_features:2] = -x[chosen, :, point_features + 1:velocity_features:2]\n",
    "\n",
    "    if rotate:\n",
    "        # rotate randomly\n",
    "        theta = np.random.random(size=(len(x))) * np.pi * 2\n",
    "        cos = np.cos(theta)\n",
    "        sin = np.sin(theta)\n",
    "        rotation_matrix = np.transpose(np.array([[cos, -sin], [sin, cos]]), [2, 1, 0])\n",
    "        bs, seqlength, feats = x[:, :, 0:point_features:2].shape\n",
    "        cg_x = np.sum(x[:, :, 0:point_features:2], axis=1) / (bs * seqlength * feats)\n",
    "        cg_y = np.sum(x[:, :, 1:point_features:2], axis=1) / (bs * seqlength * feats)\n",
    "        rotated = np.matmul(rotation_matrix, np.stack(\n",
    "            (x[:, :, 0:point_features:2].reshape(bs, -1) - cg_x, x[:, :, 1:point_features:2].reshape(bs, -1) - cg_y), axis=1))\n",
    "\n",
    "        rotated_v = np.matmul(rotation_matrix,\n",
    "                              np.stack((x[:, :, point_features:velocity_features:2].reshape(bs, -1), \n",
    "                                        x[:, :, point_features + 1:velocity_features:2].reshape(bs, -1)), axis=1))\n",
    "        \n",
    "        xp = rotated[:, 0]\n",
    "        yp = rotated[:, 1]\n",
    "        xp = xp + cg_x\n",
    "        yp = yp + cg_y\n",
    "        xvp = rotated_v[:, 0]\n",
    "        yvp = rotated_v[:, 1]\n",
    "        x[:, :, 0:point_features:2] = xp.reshape(bs, seqlength, -1)\n",
    "        x[:, :, 1:point_features:2] = yp.reshape(bs, seqlength, -1)\n",
    "        x[:, :, point_features:velocity_features:2] = xvp.reshape(bs, seqlength, -1)\n",
    "        x[:, :, point_features + 1:velocity_features:2] = yvp.reshape(bs, seqlength, -1)\n",
    "        shift = True\n",
    "\n",
    "    if shift:\n",
    "        max_x = np.max(x[:, :, 0:point_features:2], axis=(1, 2))\n",
    "        min_x = np.min(x[:, :, 0:point_features:2], axis=(1, 2))\n",
    "        max_y = np.max(x[:, :, 1:point_features:2], axis=(1, 2))\n",
    "        min_y = np.min(x[:, :, 1:point_features:2], axis=(1, 2))\n",
    "\n",
    "        x_shift_range = 1 - max_x + min_x\n",
    "        y_shift_range = 1 - max_y + min_y\n",
    "\n",
    "        x_shift = np.random.random(size=(len(x))) * x_shift_range - min_x\n",
    "        y_shift = np.random.random(size=(len(x))) * y_shift_range - min_y\n",
    "        x[:, :, 0:point_features:2] = x[:, :, 0:point_features:2] + x_shift.reshape(-1, 1, 1)\n",
    "        x[:, :, 1:point_features:2] = x[:, :, 1:point_features:2] + y_shift.reshape(-1, 1, 1)\n",
    "\n",
    "    if rotate;\n",
    "        center_pts = np.zeros((len(x_in), seqlength, velocity_features-point_features))\n",
    "        for i in range(point_features//8):\n",
    "            center_pts[:, :, i*2:(i+1)*2] = get_centerpoint(x[:, :, i*8: (i+1)*8])\n",
    "    \n",
    "        redrawn_pts = np.zeros((len(x_in), seqlength, point_features))\n",
    "        for i in range(center_pts.shape[2]//2):\n",
    "            old_width = X[:, :, i*4+2]\n",
    "            old_height = X[:, :, i*4+3]\n",
    "            center_point = center_pts[:, :, i*2: (i+1)*2]\n",
    "            points = frame_aug[:, 0, i*8: (i+1)*8]\n",
    "            redrawn_pts[:, :, i*8: (i+1)*8] = redraw(points, center_point, old_width, old_height)\n",
    "        \n",
    "    \n",
    "    if type(x_in) == torch.Tensor:\n",
    "        return torch.unsqueeze(torch.from_numpy(x), 1)\n",
    "    else:\n",
    "        return x"
   ]
  },
  {
   "cell_type": "code",
   "execution_count": null,
   "id": "8c7f245c",
   "metadata": {},
   "outputs": [],
   "source": []
  }
 ],
 "metadata": {
  "kernelspec": {
   "display_name": "Python 3 (ipykernel)",
   "language": "python",
   "name": "python3"
  },
  "language_info": {
   "codemirror_mode": {
    "name": "ipython",
    "version": 3
   },
   "file_extension": ".py",
   "mimetype": "text/x-python",
   "name": "python",
   "nbconvert_exporter": "python",
   "pygments_lexer": "ipython3",
   "version": "3.7.10"
  }
 },
 "nbformat": 4,
 "nbformat_minor": 5
}
